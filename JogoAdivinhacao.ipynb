{
  "nbformat": 4,
  "nbformat_minor": 0,
  "metadata": {
    "colab": {
      "name": "JogoAdivinhacao.ipynb",
      "provenance": [],
      "include_colab_link": true
    },
    "kernelspec": {
      "name": "python3",
      "display_name": "Python 3"
    }
  },
  "cells": [
    {
      "cell_type": "markdown",
      "metadata": {
        "id": "view-in-github",
        "colab_type": "text"
      },
      "source": [
        "<a href=\"https://colab.research.google.com/github/apconrado/Teste-Aula-Janete/blob/master/JogoAdivinhacao.ipynb\" target=\"_parent\"><img src=\"https://colab.research.google.com/assets/colab-badge.svg\" alt=\"Open In Colab\"/></a>"
      ]
    },
    {
      "cell_type": "code",
      "metadata": {
        "id": "Pui4OC4V5vIG",
        "colab_type": "code",
        "colab": {}
      },
      "source": [
        "print('Bem', 'vindo', 'ao', 'jogo', sep='@', end='tchau') #Função que imprime valores na tela com argumentos de separador e finalização"
      ],
      "execution_count": null,
      "outputs": []
    },
    {
      "cell_type": "markdown",
      "metadata": {
        "id": "lW3MV3-bKFdN",
        "colab_type": "text"
      },
      "source": [
        "Exemplo de laço com **WHILE**\n",
        "\n",
        "\n",
        "\n",
        "\n",
        "\n"
      ]
    },
    {
      "cell_type": "code",
      "metadata": {
        "id": "uTpVtn0H30eT",
        "colab_type": "code",
        "colab": {}
      },
      "source": [
        "print('Bem vindo ao jogo de Adivinhação!')\n",
        "numero_secreto = 42\n",
        "total_tentativas = 3\n",
        "rodada = 1\n",
        "\n",
        "# print('O numero secreto é: ', numero_secreto) Podemos colocar variaveis como argumentos na função print\n",
        "# enquanto ainda tiver tentativas execute :\n",
        "while (rodada <= total_tentativas):\n",
        "  # print('Tentativa ', rodada, 'de', total_tentativas, 'tentativas')\n",
        "  print ('Tentativa: {} de {}'.format(rodada, total_tentativas))\n",
        "  \n",
        "  chute_str = input('Digite o seu número:')\n",
        "  print('Você digitou o numero: ', chute_str)\n",
        "  chute = int(chute_str)\n",
        "\n",
        "  acertou = chute == numero_secreto\n",
        "  menor = chute < numero_secreto\n",
        "\n",
        "  if (acertou):\n",
        "    print('Você acertou!')\n",
        "    break\n",
        "    # total_tentativas = 0\n",
        "  elif (menor):\n",
        "    print('O seu chute foi menor que o número secreto!')\n",
        "  else:\n",
        "    print('O seu chute foi maior que o número secreto!')\n",
        "\n",
        "  rodada += 1 # === rodada = rodada + 1\n",
        "\n",
        "print(\"Fim do jogo\")\n"
      ],
      "execution_count": null,
      "outputs": []
    },
    {
      "cell_type": "markdown",
      "metadata": {
        "id": "hPwKORA8KPqv",
        "colab_type": "text"
      },
      "source": [
        "Exemplo de laço com **for**"
      ]
    },
    {
      "cell_type": "code",
      "metadata": {
        "id": "mkEDQldMKTT8",
        "colab_type": "code",
        "colab": {}
      },
      "source": [
        "import random\n",
        "\n",
        "print('Bem vindo ao jogo de Adivinhação!')\n",
        "\n",
        "numero_secreto = random.randint(1, 100)\n",
        "total_tentativas = 0\n",
        "pontos = 1000\n",
        "\n",
        "print('Qual nivel de dificuldade?')\n",
        "print('(1) Fácil (2) Médio (3) Difícil')\n",
        "\n",
        "nivel = int(input('Defina o nivel'))\n",
        "\n",
        "if (nivel == 1):\n",
        "  total_tentativas = 20\n",
        "elif (nivel == 2):\n",
        "  total_tentativas = 10\n",
        "elif (nivel == 3):\n",
        "  total_tentativas = 5\n",
        "\n",
        "for rodada in range(0,total_tentativas):\n",
        "\n",
        "  print ('Tentativa: {} de {}'.format(rodada + 1, total_tentativas))\n",
        "  \n",
        "  chute_str = input('Digite um número entr 1 e 100:')\n",
        "  print('Você digitou o numero: ', chute_str)\n",
        "  chute = int(chute_str)\n",
        "\n",
        "  if (chute < 1 or chute > 100):\n",
        "    print('Seu número precisa estar entre 1 e 100')\n",
        "    continue\n",
        "\n",
        "  acertou = chute == numero_secreto\n",
        "  menor = chute < numero_secreto\n",
        "\n",
        "  if (acertou):\n",
        "    print('Você acertou e fez {} pontos!'.format(pontos))\n",
        "    break\n",
        "\n",
        "  else:\n",
        "    if (menor):\n",
        "      print('O seu chute foi menor que o número secreto!')\n",
        "      pontos_perdidos = numero_secreto - chute\n",
        "    else:\n",
        "      print('O seu chute foi maior que o número secreto!')\n",
        "      pontos_perdidos = chute - numero_secreto\n",
        "\n",
        "\n",
        "    # pontos_perdidos = abs(numero_secreto - chute)\n",
        "\n",
        "\n",
        "\n",
        "    pontos -= pontos_perdidos # pontos = pontos - pontos_perdidos\n",
        "\n",
        "\n",
        "print('Fim do jogo, o numero secreto era {}'.format(numero_secreto))\n"
      ],
      "execution_count": null,
      "outputs": []
    },
    {
      "cell_type": "markdown",
      "metadata": {
        "id": "r5jnGULZAZqb",
        "colab_type": "text"
      },
      "source": [
        "Minha Primeira Funcão\n"
      ]
    },
    {
      "cell_type": "code",
      "metadata": {
        "id": "cejHsWJfAgEi",
        "colab_type": "code",
        "colab": {}
      },
      "source": [
        "import random\n",
        "\n",
        "print('Bem vindo ao jogo de Adivinhação!')\n",
        "\n",
        "numero_secreto = random.randint(1, 100)\n",
        "total_tentativas = 0\n",
        "pontos = 1000\n",
        "\n",
        "def acerto_erro(chute_param):\n",
        "  if (chute_param == numero_secreto):\n",
        "    return True\n",
        "  else:\n",
        "    return False \n",
        "\n",
        "\n",
        "print('Qual nivel de dificuldade?')\n",
        "print('(1) Fácil (2) Médio (3) Difícil')\n",
        "\n",
        "nivel = int(input('Defina o nivel'))\n",
        "\n",
        "if (nivel == 1):\n",
        "  total_tentativas = 20\n",
        "elif (nivel == 2):\n",
        "  total_tentativas = 10\n",
        "elif (nivel == 3):\n",
        "  total_tentativas = 5\n",
        "\n",
        "for rodada in range(0,total_tentativas):\n",
        "\n",
        "  print ('Tentativa: {} de {}'.format(rodada + 1, total_tentativas))\n",
        "  \n",
        "  chute_str = input('Digite um número entr 1 e 100:')\n",
        "  print('Você digitou o numero: ', chute_str)\n",
        "  chute = int(chute_str)\n",
        "\n",
        "  if (chute < 1 or chute > 100):\n",
        "    print('Seu número precisa estar entre 1 e 100')\n",
        "    continue\n",
        "\n",
        "  if (acerto_erro(chute)):\n",
        "    print(\"Você acertou e fez {} pontos!\".format(pontos))\n",
        "    break\n",
        "  else:\n",
        "    print('Você errou')\n",
        "    pontos_perdidos = abs(numero_secreto - chute)\n",
        "    pontos -= pontos_perdidos # pontos = pontos - pontos_perdidos\n",
        "\n",
        "\n",
        "print('Fim do jogo, o numero secreto era {}'.format(numero_secreto))"
      ],
      "execution_count": null,
      "outputs": []
    }
  ]
}